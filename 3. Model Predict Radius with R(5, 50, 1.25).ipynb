{
 "cells": [
  {
   "cell_type": "code",
   "execution_count": 1,
   "id": "fade6087",
   "metadata": {},
   "outputs": [],
   "source": [
    "import numpy as np\n",
    "import pandas as pd"
   ]
  },
  {
   "cell_type": "code",
   "execution_count": 2,
   "id": "d1bdbb9f",
   "metadata": {},
   "outputs": [
    {
     "data": {
      "text/html": [
       "<div>\n",
       "<style scoped>\n",
       "    .dataframe tbody tr th:only-of-type {\n",
       "        vertical-align: middle;\n",
       "    }\n",
       "\n",
       "    .dataframe tbody tr th {\n",
       "        vertical-align: top;\n",
       "    }\n",
       "\n",
       "    .dataframe thead th {\n",
       "        text-align: right;\n",
       "    }\n",
       "</style>\n",
       "<table border=\"1\" class=\"dataframe\">\n",
       "  <thead>\n",
       "    <tr style=\"text-align: right;\">\n",
       "      <th></th>\n",
       "      <th>Unnamed: 0</th>\n",
       "      <th>R_nm</th>\n",
       "      <th>wavelength_nm</th>\n",
       "      <th>abs</th>\n",
       "    </tr>\n",
       "  </thead>\n",
       "  <tbody>\n",
       "    <tr>\n",
       "      <th>0</th>\n",
       "      <td>0</td>\n",
       "      <td>5.0</td>\n",
       "      <td>300.000000</td>\n",
       "      <td>0.025922</td>\n",
       "    </tr>\n",
       "    <tr>\n",
       "      <th>1</th>\n",
       "      <td>1</td>\n",
       "      <td>5.0</td>\n",
       "      <td>301.820536</td>\n",
       "      <td>0.025442</td>\n",
       "    </tr>\n",
       "    <tr>\n",
       "      <th>2</th>\n",
       "      <td>2</td>\n",
       "      <td>5.0</td>\n",
       "      <td>303.652120</td>\n",
       "      <td>0.024977</td>\n",
       "    </tr>\n",
       "    <tr>\n",
       "      <th>3</th>\n",
       "      <td>3</td>\n",
       "      <td>5.0</td>\n",
       "      <td>305.494819</td>\n",
       "      <td>0.024522</td>\n",
       "    </tr>\n",
       "    <tr>\n",
       "      <th>4</th>\n",
       "      <td>4</td>\n",
       "      <td>5.0</td>\n",
       "      <td>307.348700</td>\n",
       "      <td>0.024075</td>\n",
       "    </tr>\n",
       "  </tbody>\n",
       "</table>\n",
       "</div>"
      ],
      "text/plain": [
       "   Unnamed: 0  R_nm  wavelength_nm       abs\n",
       "0           0   5.0     300.000000  0.025922\n",
       "1           1   5.0     301.820536  0.025442\n",
       "2           2   5.0     303.652120  0.024977\n",
       "3           3   5.0     305.494819  0.024522\n",
       "4           4   5.0     307.348700  0.024075"
      ]
     },
     "execution_count": 2,
     "metadata": {},
     "output_type": "execute_result"
    }
   ],
   "source": [
    "data = pd.read_csv(\"aluminum_5_50nm step1.25nm.csv\")\n",
    "data.head()"
   ]
  },
  {
   "cell_type": "code",
   "execution_count": 3,
   "id": "66f0b6f3",
   "metadata": {},
   "outputs": [
    {
     "data": {
      "text/plain": [
       "37"
      ]
     },
     "execution_count": 3,
     "metadata": {},
     "output_type": "execute_result"
    }
   ],
   "source": [
    "radius = np.arange(0.5, 5.1, 0.125)\n",
    "N = radius.shape[0]\n",
    "N"
   ]
  },
  {
   "cell_type": "code",
   "execution_count": 4,
   "id": "98a65d9f",
   "metadata": {
    "scrolled": true
   },
   "outputs": [
    {
     "data": {
      "text/plain": [
       "array([[[3.00000000e+02, 2.59216383e-02],\n",
       "        [3.01820536e+02, 2.54415458e-02],\n",
       "        [3.03652120e+02, 2.49772809e-02],\n",
       "        ...,\n",
       "        [9.87972684e+02, 1.91190345e-03],\n",
       "        [9.93968150e+02, 1.84624558e-03],\n",
       "        [1.00000000e+03, 1.78264145e-03]],\n",
       "\n",
       "       [[3.00000000e+02, 2.59216383e-02],\n",
       "        [3.01820536e+02, 2.54415458e-02],\n",
       "        [3.03652120e+02, 2.49772809e-02],\n",
       "        ...,\n",
       "        [9.87972684e+02, 1.91190345e-03],\n",
       "        [9.93968150e+02, 1.84624558e-03],\n",
       "        [1.00000000e+03, 1.78264145e-03]],\n",
       "\n",
       "       [[3.00000000e+02, 1.09503944e-01],\n",
       "        [3.01820536e+02, 1.06138676e-01],\n",
       "        [3.03652120e+02, 1.02940522e-01],\n",
       "        ...,\n",
       "        [9.87972684e+02, 4.57338918e-03],\n",
       "        [9.93968150e+02, 4.41329223e-03],\n",
       "        [1.00000000e+03, 4.25834698e-03]],\n",
       "\n",
       "       ...,\n",
       "\n",
       "       [[3.00000000e+02, 9.86034858e-01],\n",
       "        [3.01820536e+02, 9.90700324e-01],\n",
       "        [3.03652120e+02, 9.96301199e-01],\n",
       "        ...,\n",
       "        [9.87972684e+02, 1.82818734e-01],\n",
       "        [9.93968150e+02, 1.78829293e-01],\n",
       "        [1.00000000e+03, 1.74954191e-01]],\n",
       "\n",
       "       [[3.00000000e+02, 9.86674487e-01],\n",
       "        [3.01820536e+02, 9.90092616e-01],\n",
       "        [3.03652120e+02, 9.92686838e-01],\n",
       "        ...,\n",
       "        [9.87972684e+02, 2.08278700e-01],\n",
       "        [9.93968150e+02, 2.03309882e-01],\n",
       "        [1.00000000e+03, 1.98330496e-01]],\n",
       "\n",
       "       [[3.00000000e+02, 9.34254357e-01],\n",
       "        [3.01820536e+02, 9.40083301e-01],\n",
       "        [3.03652120e+02, 9.46225046e-01],\n",
       "        ...,\n",
       "        [9.87972684e+02, 2.25874315e-01],\n",
       "        [9.93968150e+02, 2.20910227e-01],\n",
       "        [1.00000000e+03, 2.15774421e-01]]])"
      ]
     },
     "execution_count": 4,
     "metadata": {},
     "output_type": "execute_result"
    }
   ],
   "source": [
    "features = [\"wavelength_nm\", \"abs\"]\n",
    "a = data[features]\n",
    "a = a.values\n",
    "a = a.reshape(N, 200, 2)\n",
    "a"
   ]
  },
  {
   "cell_type": "code",
   "execution_count": 5,
   "id": "17bcc22a",
   "metadata": {
    "scrolled": true
   },
   "outputs": [
    {
     "data": {
      "text/plain": [
       "array([[[ 5.  ],\n",
       "        [ 5.  ],\n",
       "        [ 5.  ],\n",
       "        ...,\n",
       "        [ 5.  ],\n",
       "        [ 5.  ],\n",
       "        [ 5.  ]],\n",
       "\n",
       "       [[ 6.25],\n",
       "        [ 6.25],\n",
       "        [ 6.25],\n",
       "        ...,\n",
       "        [ 6.25],\n",
       "        [ 6.25],\n",
       "        [ 6.25]],\n",
       "\n",
       "       [[ 7.5 ],\n",
       "        [ 7.5 ],\n",
       "        [ 7.5 ],\n",
       "        ...,\n",
       "        [ 7.5 ],\n",
       "        [ 7.5 ],\n",
       "        [ 7.5 ]],\n",
       "\n",
       "       ...,\n",
       "\n",
       "       [[47.5 ],\n",
       "        [47.5 ],\n",
       "        [47.5 ],\n",
       "        ...,\n",
       "        [47.5 ],\n",
       "        [47.5 ],\n",
       "        [47.5 ]],\n",
       "\n",
       "       [[48.75],\n",
       "        [48.75],\n",
       "        [48.75],\n",
       "        ...,\n",
       "        [48.75],\n",
       "        [48.75],\n",
       "        [48.75]],\n",
       "\n",
       "       [[50.  ],\n",
       "        [50.  ],\n",
       "        [50.  ],\n",
       "        ...,\n",
       "        [50.  ],\n",
       "        [50.  ],\n",
       "        [50.  ]]])"
      ]
     },
     "execution_count": 5,
     "metadata": {},
     "output_type": "execute_result"
    }
   ],
   "source": [
    "b = data[\"R_nm\"]\n",
    "b = b.values\n",
    "b = b.reshape(N, 200, 1)\n",
    "b"
   ]
  },
  {
   "cell_type": "markdown",
   "id": "8acc76c7",
   "metadata": {},
   "source": [
    "### Spliting dataset"
   ]
  },
  {
   "cell_type": "code",
   "execution_count": 6,
   "id": "064fd580",
   "metadata": {},
   "outputs": [],
   "source": [
    "from sklearn.model_selection import train_test_split\n",
    "a_train, a_valid, b_train, b_valid = train_test_split(a, b, train_size=0.85, test_size=0.15, random_state = 1)"
   ]
  },
  {
   "cell_type": "code",
   "execution_count": 7,
   "id": "808806c9",
   "metadata": {},
   "outputs": [
    {
     "data": {
      "text/plain": [
       "(31, 200, 2)"
      ]
     },
     "execution_count": 7,
     "metadata": {},
     "output_type": "execute_result"
    }
   ],
   "source": [
    "a_train.shape"
   ]
  },
  {
   "cell_type": "code",
   "execution_count": 8,
   "id": "bdbfea0b",
   "metadata": {},
   "outputs": [
    {
     "data": {
      "text/plain": [
       "(6, 400)"
      ]
     },
     "execution_count": 8,
     "metadata": {},
     "output_type": "execute_result"
    }
   ],
   "source": [
    "a_train = a_train.reshape(31, 200*2)\n",
    "b_train = b_train.reshape(31, 200*1)\n",
    "a_valid = a_valid.reshape(6, 200*2)\n",
    "b_valid.shape\n",
    "a_valid.shape"
   ]
  },
  {
   "cell_type": "code",
   "execution_count": 9,
   "id": "04343056",
   "metadata": {},
   "outputs": [
    {
     "data": {
      "text/plain": [
       "array([[3.00000000e+02, 1.09503944e-01, 3.01820536e+02, ...,\n",
       "        4.41329223e-03, 1.00000000e+03, 4.25834698e-03],\n",
       "       [3.00000000e+02, 1.26257042e+00, 3.01820536e+02, ...,\n",
       "        1.69599632e-01, 1.00000000e+03, 1.69420569e-01],\n",
       "       [3.00000000e+02, 1.73239842e-01, 3.01820536e+02, ...,\n",
       "        5.24965781e-03, 1.00000000e+03, 5.06523327e-03],\n",
       "       [3.00000000e+02, 1.16520227e+00, 3.01820536e+02, ...,\n",
       "        1.83751647e-01, 1.00000000e+03, 1.87924835e-01],\n",
       "       [3.00000000e+02, 1.21122644e+00, 3.01820536e+02, ...,\n",
       "        1.55256693e-01, 1.00000000e+03, 1.53624649e-01],\n",
       "       [3.00000000e+02, 1.26665779e+00, 3.01820536e+02, ...,\n",
       "        1.64715870e-01, 1.00000000e+03, 1.63887378e-01]])"
      ]
     },
     "execution_count": 9,
     "metadata": {},
     "output_type": "execute_result"
    }
   ],
   "source": [
    "a_valid"
   ]
  },
  {
   "cell_type": "markdown",
   "id": "a194aa46",
   "metadata": {},
   "source": [
    "### 1.ExtraTreesRegressor"
   ]
  },
  {
   "cell_type": "code",
   "execution_count": 50,
   "id": "eaa6f9d7",
   "metadata": {},
   "outputs": [
    {
     "data": {
      "text/plain": [
       "ExtraTreesRegressor(random_state=1)"
      ]
     },
     "execution_count": 50,
     "metadata": {},
     "output_type": "execute_result"
    }
   ],
   "source": [
    "from sklearn.ensemble import ExtraTreesRegressor\n",
    "et_model = ExtraTreesRegressor(random_state =1)\n",
    "et_model.fit(a_train, b_train)"
   ]
  },
  {
   "cell_type": "code",
   "execution_count": 51,
   "id": "481aacba",
   "metadata": {},
   "outputs": [
    {
     "data": {
      "text/plain": [
       "(6, 200, 1)"
      ]
     },
     "execution_count": 51,
     "metadata": {},
     "output_type": "execute_result"
    }
   ],
   "source": [
    "et_b_preds = et_model.predict(a_valid)\n",
    "et_b_preds = et_b_preds.reshape(6, 200, 1)\n",
    "et_b_preds.shape"
   ]
  },
  {
   "cell_type": "code",
   "execution_count": 52,
   "id": "d8f56db0",
   "metadata": {
    "scrolled": true
   },
   "outputs": [
    {
     "name": "stdout",
     "output_type": "stream",
     "text": [
      "MSR ExtraTreesRegressor: 1.308776\n",
      "R2 ExtraTreesRegressor: 99.328115 %\n"
     ]
    }
   ],
   "source": [
    "from sklearn.metrics import mean_squared_error, r2_score\n",
    "print(\"MSR ExtraTreesRegressor: %f\" %mean_squared_error(b_valid[:, 0, 0], et_b_preds[:, 0, 0]))\n",
    "print(\"R2 ExtraTreesRegressor: %f %%\" %(100*r2_score(b_valid[:, 0, 0], et_b_preds[:, 0, 0])))"
   ]
  },
  {
   "cell_type": "code",
   "execution_count": 54,
   "id": "f0dd9e82",
   "metadata": {},
   "outputs": [
    {
     "data": {
      "text/html": [
       "<div>\n",
       "<style scoped>\n",
       "    .dataframe tbody tr th:only-of-type {\n",
       "        vertical-align: middle;\n",
       "    }\n",
       "\n",
       "    .dataframe tbody tr th {\n",
       "        vertical-align: top;\n",
       "    }\n",
       "\n",
       "    .dataframe thead th {\n",
       "        text-align: right;\n",
       "    }\n",
       "</style>\n",
       "<table border=\"1\" class=\"dataframe\">\n",
       "  <thead>\n",
       "    <tr style=\"text-align: right;\">\n",
       "      <th></th>\n",
       "      <th>valid</th>\n",
       "      <th>et_preds</th>\n",
       "    </tr>\n",
       "  </thead>\n",
       "  <tbody>\n",
       "    <tr>\n",
       "      <th>0</th>\n",
       "      <td>7.50</td>\n",
       "      <td>8.9500</td>\n",
       "    </tr>\n",
       "    <tr>\n",
       "      <th>1</th>\n",
       "      <td>41.25</td>\n",
       "      <td>42.4750</td>\n",
       "    </tr>\n",
       "    <tr>\n",
       "      <th>2</th>\n",
       "      <td>8.75</td>\n",
       "      <td>10.0000</td>\n",
       "    </tr>\n",
       "    <tr>\n",
       "      <th>3</th>\n",
       "      <td>32.50</td>\n",
       "      <td>31.5375</td>\n",
       "    </tr>\n",
       "    <tr>\n",
       "      <th>4</th>\n",
       "      <td>36.25</td>\n",
       "      <td>37.2250</td>\n",
       "    </tr>\n",
       "    <tr>\n",
       "      <th>5</th>\n",
       "      <td>38.75</td>\n",
       "      <td>39.6500</td>\n",
       "    </tr>\n",
       "  </tbody>\n",
       "</table>\n",
       "</div>"
      ],
      "text/plain": [
       "   valid  et_preds\n",
       "0   7.50    8.9500\n",
       "1  41.25   42.4750\n",
       "2   8.75   10.0000\n",
       "3  32.50   31.5375\n",
       "4  36.25   37.2250\n",
       "5  38.75   39.6500"
      ]
     },
     "execution_count": 54,
     "metadata": {},
     "output_type": "execute_result"
    }
   ],
   "source": [
    "pd.DataFrame({\"valid\": b_valid[:, 0 , 0] ,\"et_preds\": et_b_preds[:,0, 0]})"
   ]
  },
  {
   "cell_type": "markdown",
   "id": "03a8b304",
   "metadata": {},
   "source": [
    "### 2.RandomForestRegressor"
   ]
  },
  {
   "cell_type": "code",
   "execution_count": 55,
   "id": "54537578",
   "metadata": {},
   "outputs": [
    {
     "data": {
      "text/plain": [
       "RandomForestRegressor(random_state=1)"
      ]
     },
     "execution_count": 55,
     "metadata": {},
     "output_type": "execute_result"
    }
   ],
   "source": [
    "from sklearn.ensemble import RandomForestRegressor\n",
    "rf_model = RandomForestRegressor(random_state =1)\n",
    "rf_model.fit(a_train, b_train)"
   ]
  },
  {
   "cell_type": "code",
   "execution_count": 56,
   "id": "5dfce069",
   "metadata": {
    "scrolled": true
   },
   "outputs": [
    {
     "data": {
      "text/plain": [
       "array([[[10.134375  ],\n",
       "        [10.134375  ],\n",
       "        [10.134375  ],\n",
       "        ...,\n",
       "        [10.134375  ],\n",
       "        [10.134375  ],\n",
       "        [10.134375  ]],\n",
       "\n",
       "       [[42.6125    ],\n",
       "        [42.6125    ],\n",
       "        [42.6125    ],\n",
       "        ...,\n",
       "        [42.6125    ],\n",
       "        [42.6125    ],\n",
       "        [42.6125    ]],\n",
       "\n",
       "       [[10.34895833],\n",
       "        [10.34895833],\n",
       "        [10.34895833],\n",
       "        ...,\n",
       "        [10.34895833],\n",
       "        [10.34895833],\n",
       "        [10.34895833]],\n",
       "\n",
       "       [[31.475     ],\n",
       "        [31.475     ],\n",
       "        [31.475     ],\n",
       "        ...,\n",
       "        [31.475     ],\n",
       "        [31.475     ],\n",
       "        [31.475     ]],\n",
       "\n",
       "       [[37.0125    ],\n",
       "        [37.0125    ],\n",
       "        [37.0125    ],\n",
       "        ...,\n",
       "        [37.0125    ],\n",
       "        [37.0125    ],\n",
       "        [37.0125    ]],\n",
       "\n",
       "       [[39.125     ],\n",
       "        [39.125     ],\n",
       "        [39.125     ],\n",
       "        ...,\n",
       "        [39.125     ],\n",
       "        [39.125     ],\n",
       "        [39.125     ]]])"
      ]
     },
     "execution_count": 56,
     "metadata": {},
     "output_type": "execute_result"
    }
   ],
   "source": [
    "rf_b_preds = rf_model.predict(a_valid)\n",
    "rf_b_preds = rf_b_preds.reshape(6, 200, 1)\n",
    "rf_b_preds"
   ]
  },
  {
   "cell_type": "code",
   "execution_count": 57,
   "id": "aa1b7577",
   "metadata": {},
   "outputs": [
    {
     "name": "stdout",
     "output_type": "stream",
     "text": [
      "MSE RandomForestRegressor: 2.187610\n",
      "R2 RandomForestRegressor: 98.876949 %\n"
     ]
    }
   ],
   "source": [
    "from sklearn.metrics import mean_squared_error, r2_score\n",
    "\n",
    "print(\"MSE RandomForestRegressor: %f\" % mean_squared_error(b_valid[:, 0, 0], rf_b_preds[:, 0, 0]))\n",
    "print(\"R2 RandomForestRegressor: %f %%\" %(100*r2_score(b_valid[:, 0, 0], rf_b_preds[:, 0, 0])))"
   ]
  },
  {
   "cell_type": "code",
   "execution_count": 58,
   "id": "4636d7c0",
   "metadata": {},
   "outputs": [
    {
     "data": {
      "text/html": [
       "<div>\n",
       "<style scoped>\n",
       "    .dataframe tbody tr th:only-of-type {\n",
       "        vertical-align: middle;\n",
       "    }\n",
       "\n",
       "    .dataframe tbody tr th {\n",
       "        vertical-align: top;\n",
       "    }\n",
       "\n",
       "    .dataframe thead th {\n",
       "        text-align: right;\n",
       "    }\n",
       "</style>\n",
       "<table border=\"1\" class=\"dataframe\">\n",
       "  <thead>\n",
       "    <tr style=\"text-align: right;\">\n",
       "      <th></th>\n",
       "      <th>valid</th>\n",
       "      <th>preds</th>\n",
       "    </tr>\n",
       "  </thead>\n",
       "  <tbody>\n",
       "    <tr>\n",
       "      <th>0</th>\n",
       "      <td>7.50</td>\n",
       "      <td>10.134375</td>\n",
       "    </tr>\n",
       "    <tr>\n",
       "      <th>1</th>\n",
       "      <td>41.25</td>\n",
       "      <td>42.612500</td>\n",
       "    </tr>\n",
       "    <tr>\n",
       "      <th>2</th>\n",
       "      <td>8.75</td>\n",
       "      <td>10.348958</td>\n",
       "    </tr>\n",
       "    <tr>\n",
       "      <th>3</th>\n",
       "      <td>32.50</td>\n",
       "      <td>31.475000</td>\n",
       "    </tr>\n",
       "    <tr>\n",
       "      <th>4</th>\n",
       "      <td>36.25</td>\n",
       "      <td>37.012500</td>\n",
       "    </tr>\n",
       "    <tr>\n",
       "      <th>5</th>\n",
       "      <td>38.75</td>\n",
       "      <td>39.125000</td>\n",
       "    </tr>\n",
       "  </tbody>\n",
       "</table>\n",
       "</div>"
      ],
      "text/plain": [
       "   valid      preds\n",
       "0   7.50  10.134375\n",
       "1  41.25  42.612500\n",
       "2   8.75  10.348958\n",
       "3  32.50  31.475000\n",
       "4  36.25  37.012500\n",
       "5  38.75  39.125000"
      ]
     },
     "execution_count": 58,
     "metadata": {},
     "output_type": "execute_result"
    }
   ],
   "source": [
    "pd.DataFrame({\"valid\": b_valid[:, 0 , 0] ,\"preds\": rf_b_preds[:,0, 0]})"
   ]
  },
  {
   "cell_type": "markdown",
   "id": "0ab5e896",
   "metadata": {},
   "source": [
    "### 3.DecisionTreeRegressor"
   ]
  },
  {
   "cell_type": "code",
   "execution_count": 59,
   "id": "12420794",
   "metadata": {},
   "outputs": [
    {
     "data": {
      "text/plain": [
       "DecisionTreeRegressor(random_state=1)"
      ]
     },
     "execution_count": 59,
     "metadata": {},
     "output_type": "execute_result"
    }
   ],
   "source": [
    "from sklearn.tree import DecisionTreeRegressor\n",
    "dt_model = DecisionTreeRegressor(random_state = 1)\n",
    "dt_model.fit(a_train, b_train)"
   ]
  },
  {
   "cell_type": "code",
   "execution_count": 60,
   "id": "fb44ac7c",
   "metadata": {
    "scrolled": true
   },
   "outputs": [
    {
     "data": {
      "text/plain": [
       "array([[[10. ],\n",
       "        [10. ],\n",
       "        [10. ],\n",
       "        ...,\n",
       "        [10. ],\n",
       "        [10. ],\n",
       "        [10. ]],\n",
       "\n",
       "       [[42.5],\n",
       "        [42.5],\n",
       "        [42.5],\n",
       "        ...,\n",
       "        [42.5],\n",
       "        [42.5],\n",
       "        [42.5]],\n",
       "\n",
       "       [[10. ],\n",
       "        [10. ],\n",
       "        [10. ],\n",
       "        ...,\n",
       "        [10. ],\n",
       "        [10. ],\n",
       "        [10. ]],\n",
       "\n",
       "       [[37.5],\n",
       "        [37.5],\n",
       "        [37.5],\n",
       "        ...,\n",
       "        [37.5],\n",
       "        [37.5],\n",
       "        [37.5]],\n",
       "\n",
       "       [[35. ],\n",
       "        [35. ],\n",
       "        [35. ],\n",
       "        ...,\n",
       "        [35. ],\n",
       "        [35. ],\n",
       "        [35. ]],\n",
       "\n",
       "       [[40. ],\n",
       "        [40. ],\n",
       "        [40. ],\n",
       "        ...,\n",
       "        [40. ],\n",
       "        [40. ],\n",
       "        [40. ]]])"
      ]
     },
     "execution_count": 60,
     "metadata": {},
     "output_type": "execute_result"
    }
   ],
   "source": [
    "b_preds = dt_model.predict(a_valid)\n",
    "b_preds = b_preds.reshape(6, 200, 1)\n",
    "b_preds"
   ]
  },
  {
   "cell_type": "code",
   "execution_count": 61,
   "id": "257f71dd",
   "metadata": {},
   "outputs": [
    {
     "name": "stdout",
     "output_type": "stream",
     "text": [
      "MSE DecisionTreeRegressor: 6.250000\n",
      "R2 DecisionTreeRegressor: 96.791444 %\n"
     ]
    }
   ],
   "source": [
    "from sklearn.metrics import mean_squared_error, r2_score\n",
    "print(\"MSE DecisionTreeRegressor: %f\" % mean_squared_error(b_valid[:, 0, 0], b_preds[:, 0, 0]))\n",
    "print(\"R2 DecisionTreeRegressor: %f %%\" %(100*r2_score(b_valid[:, 0, 0], b_preds[:, 0, 0])))"
   ]
  },
  {
   "cell_type": "code",
   "execution_count": 63,
   "id": "a994950f",
   "metadata": {},
   "outputs": [
    {
     "data": {
      "text/html": [
       "<div>\n",
       "<style scoped>\n",
       "    .dataframe tbody tr th:only-of-type {\n",
       "        vertical-align: middle;\n",
       "    }\n",
       "\n",
       "    .dataframe tbody tr th {\n",
       "        vertical-align: top;\n",
       "    }\n",
       "\n",
       "    .dataframe thead th {\n",
       "        text-align: right;\n",
       "    }\n",
       "</style>\n",
       "<table border=\"1\" class=\"dataframe\">\n",
       "  <thead>\n",
       "    <tr style=\"text-align: right;\">\n",
       "      <th></th>\n",
       "      <th>valid</th>\n",
       "      <th>preds</th>\n",
       "    </tr>\n",
       "  </thead>\n",
       "  <tbody>\n",
       "    <tr>\n",
       "      <th>0</th>\n",
       "      <td>7.50</td>\n",
       "      <td>10.0</td>\n",
       "    </tr>\n",
       "    <tr>\n",
       "      <th>1</th>\n",
       "      <td>41.25</td>\n",
       "      <td>42.5</td>\n",
       "    </tr>\n",
       "    <tr>\n",
       "      <th>2</th>\n",
       "      <td>8.75</td>\n",
       "      <td>10.0</td>\n",
       "    </tr>\n",
       "    <tr>\n",
       "      <th>3</th>\n",
       "      <td>32.50</td>\n",
       "      <td>37.5</td>\n",
       "    </tr>\n",
       "    <tr>\n",
       "      <th>4</th>\n",
       "      <td>36.25</td>\n",
       "      <td>35.0</td>\n",
       "    </tr>\n",
       "    <tr>\n",
       "      <th>5</th>\n",
       "      <td>38.75</td>\n",
       "      <td>40.0</td>\n",
       "    </tr>\n",
       "  </tbody>\n",
       "</table>\n",
       "</div>"
      ],
      "text/plain": [
       "   valid  preds\n",
       "0   7.50   10.0\n",
       "1  41.25   42.5\n",
       "2   8.75   10.0\n",
       "3  32.50   37.5\n",
       "4  36.25   35.0\n",
       "5  38.75   40.0"
      ]
     },
     "execution_count": 63,
     "metadata": {},
     "output_type": "execute_result"
    }
   ],
   "source": [
    "pd.DataFrame({\"valid\": b_valid[:, 0 , 0] ,\"preds\": b_preds[:,0, 0]})"
   ]
  },
  {
   "cell_type": "markdown",
   "id": "26939467",
   "metadata": {},
   "source": [
    "### 4.KNeighborRegressor"
   ]
  },
  {
   "cell_type": "code",
   "execution_count": 64,
   "id": "fc52278d",
   "metadata": {},
   "outputs": [],
   "source": [
    "from sklearn.neighbors import KNeighborsRegressor\n",
    "n_neighbors = 2\n",
    "for i in enumerate([\"uniform\"]):\n",
    "    kn_model = KNeighborsRegressor(n_neighbors)\n",
    "    kn_model.fit(a_train, b_train)"
   ]
  },
  {
   "cell_type": "code",
   "execution_count": 65,
   "id": "87258914",
   "metadata": {
    "scrolled": true
   },
   "outputs": [
    {
     "data": {
      "text/plain": [
       "array([[[ 8.125],\n",
       "        [ 8.125],\n",
       "        [ 8.125],\n",
       "        ...,\n",
       "        [ 8.125],\n",
       "        [ 8.125],\n",
       "        [ 8.125]],\n",
       "\n",
       "       [[43.125],\n",
       "        [43.125],\n",
       "        [43.125],\n",
       "        ...,\n",
       "        [43.125],\n",
       "        [43.125],\n",
       "        [43.125]],\n",
       "\n",
       "       [[10.625],\n",
       "        [10.625],\n",
       "        [10.625],\n",
       "        ...,\n",
       "        [10.625],\n",
       "        [10.625],\n",
       "        [10.625]],\n",
       "\n",
       "       [[30.625],\n",
       "        [30.625],\n",
       "        [30.625],\n",
       "        ...,\n",
       "        [30.625],\n",
       "        [30.625],\n",
       "        [30.625]],\n",
       "\n",
       "       [[36.25 ],\n",
       "        [36.25 ],\n",
       "        [36.25 ],\n",
       "        ...,\n",
       "        [36.25 ],\n",
       "        [36.25 ],\n",
       "        [36.25 ]],\n",
       "\n",
       "       [[38.75 ],\n",
       "        [38.75 ],\n",
       "        [38.75 ],\n",
       "        ...,\n",
       "        [38.75 ],\n",
       "        [38.75 ],\n",
       "        [38.75 ]]])"
      ]
     },
     "execution_count": 65,
     "metadata": {},
     "output_type": "execute_result"
    }
   ],
   "source": [
    "kn_b_preds = kn_model.predict(a_valid)\n",
    "kn_b_preds = kn_b_preds.reshape(6, 200, 1)\n",
    "kn_b_preds"
   ]
  },
  {
   "cell_type": "code",
   "execution_count": 66,
   "id": "a02a046a",
   "metadata": {},
   "outputs": [
    {
     "name": "stdout",
     "output_type": "stream",
     "text": [
      "MSE KNeighborsRegressor: 1.822917\n",
      "R2 KNeighborsRegressor: 99.064171 %\n"
     ]
    }
   ],
   "source": [
    "from sklearn.metrics import mean_squared_error, r2_score\n",
    "print(\"MSE KNeighborsRegressor: %f\" % mean_squared_error(b_valid[:, 0, 0], kn_b_preds[:, 0, 0]))\n",
    "print(\"R2 KNeighborsRegressor: %f %%\" %(100* r2_score(b_valid[:, 0, 0], kn_b_preds[:, 0, 0])))"
   ]
  },
  {
   "cell_type": "code",
   "execution_count": 67,
   "id": "3b0d58ac",
   "metadata": {},
   "outputs": [
    {
     "data": {
      "text/html": [
       "<div>\n",
       "<style scoped>\n",
       "    .dataframe tbody tr th:only-of-type {\n",
       "        vertical-align: middle;\n",
       "    }\n",
       "\n",
       "    .dataframe tbody tr th {\n",
       "        vertical-align: top;\n",
       "    }\n",
       "\n",
       "    .dataframe thead th {\n",
       "        text-align: right;\n",
       "    }\n",
       "</style>\n",
       "<table border=\"1\" class=\"dataframe\">\n",
       "  <thead>\n",
       "    <tr style=\"text-align: right;\">\n",
       "      <th></th>\n",
       "      <th>valid</th>\n",
       "      <th>preds</th>\n",
       "    </tr>\n",
       "  </thead>\n",
       "  <tbody>\n",
       "    <tr>\n",
       "      <th>0</th>\n",
       "      <td>7.50</td>\n",
       "      <td>8.125</td>\n",
       "    </tr>\n",
       "    <tr>\n",
       "      <th>1</th>\n",
       "      <td>41.25</td>\n",
       "      <td>43.125</td>\n",
       "    </tr>\n",
       "    <tr>\n",
       "      <th>2</th>\n",
       "      <td>8.75</td>\n",
       "      <td>10.625</td>\n",
       "    </tr>\n",
       "    <tr>\n",
       "      <th>3</th>\n",
       "      <td>32.50</td>\n",
       "      <td>30.625</td>\n",
       "    </tr>\n",
       "    <tr>\n",
       "      <th>4</th>\n",
       "      <td>36.25</td>\n",
       "      <td>36.250</td>\n",
       "    </tr>\n",
       "    <tr>\n",
       "      <th>5</th>\n",
       "      <td>38.75</td>\n",
       "      <td>38.750</td>\n",
       "    </tr>\n",
       "  </tbody>\n",
       "</table>\n",
       "</div>"
      ],
      "text/plain": [
       "   valid   preds\n",
       "0   7.50   8.125\n",
       "1  41.25  43.125\n",
       "2   8.75  10.625\n",
       "3  32.50  30.625\n",
       "4  36.25  36.250\n",
       "5  38.75  38.750"
      ]
     },
     "execution_count": 67,
     "metadata": {},
     "output_type": "execute_result"
    }
   ],
   "source": [
    "pd.DataFrame({\"valid\": b_valid[:, 0 , 0] ,\"preds\": kn_b_preds[:,0, 0]})"
   ]
  },
  {
   "cell_type": "markdown",
   "id": "342d009e",
   "metadata": {},
   "source": [
    "### 5.Linear Regressor"
   ]
  },
  {
   "cell_type": "code",
   "execution_count": 68,
   "id": "5444b132",
   "metadata": {},
   "outputs": [
    {
     "data": {
      "text/plain": [
       "LinearRegression()"
      ]
     },
     "execution_count": 68,
     "metadata": {},
     "output_type": "execute_result"
    }
   ],
   "source": [
    "from sklearn.linear_model import LinearRegression\n",
    "linear = LinearRegression()\n",
    "linear.fit(a_train, b_train)"
   ]
  },
  {
   "cell_type": "code",
   "execution_count": 69,
   "id": "c10d4df5",
   "metadata": {
    "scrolled": true
   },
   "outputs": [
    {
     "data": {
      "text/plain": [
       "array([[[ 8.57213014],\n",
       "        [ 8.57213014],\n",
       "        [ 8.57213014],\n",
       "        ...,\n",
       "        [ 8.57213014],\n",
       "        [ 8.57213014],\n",
       "        [ 8.57213014]],\n",
       "\n",
       "       [[41.39796501],\n",
       "        [41.39796501],\n",
       "        [41.39796501],\n",
       "        ...,\n",
       "        [41.39796501],\n",
       "        [41.39796501],\n",
       "        [41.39796501]],\n",
       "\n",
       "       [[10.        ],\n",
       "        [10.        ],\n",
       "        [10.        ],\n",
       "        ...,\n",
       "        [10.        ],\n",
       "        [10.        ],\n",
       "        [10.        ]],\n",
       "\n",
       "       [[26.68624003],\n",
       "        [26.68624003],\n",
       "        [26.68624003],\n",
       "        ...,\n",
       "        [26.68624003],\n",
       "        [26.68624003],\n",
       "        [26.68624003]],\n",
       "\n",
       "       [[37.39667327],\n",
       "        [37.39667327],\n",
       "        [37.39667327],\n",
       "        ...,\n",
       "        [37.39667327],\n",
       "        [37.39667327],\n",
       "        [37.39667327]],\n",
       "\n",
       "       [[37.41576625],\n",
       "        [37.41576625],\n",
       "        [37.41576625],\n",
       "        ...,\n",
       "        [37.41576625],\n",
       "        [37.41576625],\n",
       "        [37.41576625]]])"
      ]
     },
     "execution_count": 69,
     "metadata": {},
     "output_type": "execute_result"
    }
   ],
   "source": [
    "linear_preds = linear.predict(a_valid)\n",
    "linear_preds = linear_preds.reshape(6, 200, 1)\n",
    "linear_preds"
   ]
  },
  {
   "cell_type": "code",
   "execution_count": 70,
   "id": "6829d384",
   "metadata": {},
   "outputs": [
    {
     "name": "stdout",
     "output_type": "stream",
     "text": [
      "MSE LinearRegressor: 6.604783\n",
      "R2: 96.609309 %\n"
     ]
    }
   ],
   "source": [
    "from sklearn.metrics import mean_squared_error, r2_score\n",
    "print(\"MSE LinearRegressor: %f\" % mean_squared_error(b_valid[:, 0, 0], linear_preds[:, 0, 0]))\n",
    "print(\"R2: %f %%\" % (100*r2_score(b_valid[:, 0, 0], linear_preds[:, 0, 0])))"
   ]
  },
  {
   "cell_type": "code",
   "execution_count": 71,
   "id": "a70f4202",
   "metadata": {},
   "outputs": [
    {
     "data": {
      "text/html": [
       "<div>\n",
       "<style scoped>\n",
       "    .dataframe tbody tr th:only-of-type {\n",
       "        vertical-align: middle;\n",
       "    }\n",
       "\n",
       "    .dataframe tbody tr th {\n",
       "        vertical-align: top;\n",
       "    }\n",
       "\n",
       "    .dataframe thead th {\n",
       "        text-align: right;\n",
       "    }\n",
       "</style>\n",
       "<table border=\"1\" class=\"dataframe\">\n",
       "  <thead>\n",
       "    <tr style=\"text-align: right;\">\n",
       "      <th></th>\n",
       "      <th>valid</th>\n",
       "      <th>preds</th>\n",
       "    </tr>\n",
       "  </thead>\n",
       "  <tbody>\n",
       "    <tr>\n",
       "      <th>0</th>\n",
       "      <td>7.50</td>\n",
       "      <td>8.572130</td>\n",
       "    </tr>\n",
       "    <tr>\n",
       "      <th>1</th>\n",
       "      <td>41.25</td>\n",
       "      <td>41.397965</td>\n",
       "    </tr>\n",
       "    <tr>\n",
       "      <th>2</th>\n",
       "      <td>8.75</td>\n",
       "      <td>10.000000</td>\n",
       "    </tr>\n",
       "    <tr>\n",
       "      <th>3</th>\n",
       "      <td>32.50</td>\n",
       "      <td>26.686240</td>\n",
       "    </tr>\n",
       "    <tr>\n",
       "      <th>4</th>\n",
       "      <td>36.25</td>\n",
       "      <td>37.396673</td>\n",
       "    </tr>\n",
       "    <tr>\n",
       "      <th>5</th>\n",
       "      <td>38.75</td>\n",
       "      <td>37.415766</td>\n",
       "    </tr>\n",
       "  </tbody>\n",
       "</table>\n",
       "</div>"
      ],
      "text/plain": [
       "   valid      preds\n",
       "0   7.50   8.572130\n",
       "1  41.25  41.397965\n",
       "2   8.75  10.000000\n",
       "3  32.50  26.686240\n",
       "4  36.25  37.396673\n",
       "5  38.75  37.415766"
      ]
     },
     "execution_count": 71,
     "metadata": {},
     "output_type": "execute_result"
    }
   ],
   "source": [
    "pd.DataFrame({\"valid\": b_valid[:, 0 , 0] ,\"preds\": linear_preds[:,0, 0]})"
   ]
  },
  {
   "cell_type": "code",
   "execution_count": 73,
   "id": "a79b66a1",
   "metadata": {
    "scrolled": true
   },
   "outputs": [
    {
     "data": {
      "text/html": [
       "<div>\n",
       "<style scoped>\n",
       "    .dataframe tbody tr th:only-of-type {\n",
       "        vertical-align: middle;\n",
       "    }\n",
       "\n",
       "    .dataframe tbody tr th {\n",
       "        vertical-align: top;\n",
       "    }\n",
       "\n",
       "    .dataframe thead th {\n",
       "        text-align: right;\n",
       "    }\n",
       "</style>\n",
       "<table border=\"1\" class=\"dataframe\">\n",
       "  <thead>\n",
       "    <tr style=\"text-align: right;\">\n",
       "      <th></th>\n",
       "      <th>Unnamed: 0</th>\n",
       "      <th>wavelength_nm</th>\n",
       "      <th>abs</th>\n",
       "    </tr>\n",
       "  </thead>\n",
       "  <tbody>\n",
       "    <tr>\n",
       "      <th>0</th>\n",
       "      <td>0</td>\n",
       "      <td>300.000000</td>\n",
       "      <td>0.801921</td>\n",
       "    </tr>\n",
       "    <tr>\n",
       "      <th>1</th>\n",
       "      <td>1</td>\n",
       "      <td>301.820536</td>\n",
       "      <td>0.782630</td>\n",
       "    </tr>\n",
       "    <tr>\n",
       "      <th>2</th>\n",
       "      <td>2</td>\n",
       "      <td>303.652120</td>\n",
       "      <td>0.765067</td>\n",
       "    </tr>\n",
       "    <tr>\n",
       "      <th>3</th>\n",
       "      <td>3</td>\n",
       "      <td>305.494819</td>\n",
       "      <td>0.749244</td>\n",
       "    </tr>\n",
       "    <tr>\n",
       "      <th>4</th>\n",
       "      <td>4</td>\n",
       "      <td>307.348700</td>\n",
       "      <td>0.735122</td>\n",
       "    </tr>\n",
       "    <tr>\n",
       "      <th>...</th>\n",
       "      <td>...</td>\n",
       "      <td>...</td>\n",
       "      <td>...</td>\n",
       "    </tr>\n",
       "    <tr>\n",
       "      <th>195</th>\n",
       "      <td>195</td>\n",
       "      <td>976.090025</td>\n",
       "      <td>0.058272</td>\n",
       "    </tr>\n",
       "    <tr>\n",
       "      <th>196</th>\n",
       "      <td>196</td>\n",
       "      <td>982.013382</td>\n",
       "      <td>0.055146</td>\n",
       "    </tr>\n",
       "    <tr>\n",
       "      <th>197</th>\n",
       "      <td>197</td>\n",
       "      <td>987.972684</td>\n",
       "      <td>0.051998</td>\n",
       "    </tr>\n",
       "    <tr>\n",
       "      <th>198</th>\n",
       "      <td>198</td>\n",
       "      <td>993.968150</td>\n",
       "      <td>0.048963</td>\n",
       "    </tr>\n",
       "    <tr>\n",
       "      <th>199</th>\n",
       "      <td>199</td>\n",
       "      <td>1000.000000</td>\n",
       "      <td>0.046076</td>\n",
       "    </tr>\n",
       "  </tbody>\n",
       "</table>\n",
       "<p>200 rows × 3 columns</p>\n",
       "</div>"
      ],
      "text/plain": [
       "     Unnamed: 0  wavelength_nm       abs\n",
       "0             0     300.000000  0.801921\n",
       "1             1     301.820536  0.782630\n",
       "2             2     303.652120  0.765067\n",
       "3             3     305.494819  0.749244\n",
       "4             4     307.348700  0.735122\n",
       "..          ...            ...       ...\n",
       "195         195     976.090025  0.058272\n",
       "196         196     982.013382  0.055146\n",
       "197         197     987.972684  0.051998\n",
       "198         198     993.968150  0.048963\n",
       "199         199    1000.000000  0.046076\n",
       "\n",
       "[200 rows x 3 columns]"
      ]
     },
     "execution_count": 73,
     "metadata": {},
     "output_type": "execute_result"
    }
   ],
   "source": [
    "data1 = pd.read_csv(\"data_test_aluminum_26nm_200wavelengths.csv\")\n",
    "data1"
   ]
  },
  {
   "cell_type": "code",
   "execution_count": 74,
   "id": "7f635a32",
   "metadata": {
    "scrolled": true
   },
   "outputs": [],
   "source": [
    "data1 = data1.values"
   ]
  },
  {
   "cell_type": "code",
   "execution_count": 75,
   "id": "15232b5c",
   "metadata": {},
   "outputs": [
    {
     "name": "stdout",
     "output_type": "stream",
     "text": [
      "3 200\n"
     ]
    }
   ],
   "source": [
    "collumn = data1.shape[1]\n",
    "row = data1.shape[0]\n",
    "print(collumn, row)"
   ]
  },
  {
   "cell_type": "code",
   "execution_count": 76,
   "id": "25e03303",
   "metadata": {
    "scrolled": true
   },
   "outputs": [],
   "source": [
    "for j in np.arange(0, collumn, 1):\n",
    "    for i in np.arange(1, row, 1):\n",
    "        if(data1[i, j] == data1[i-1, j]+1):\n",
    "            data1 = np.delete(data1, j, 1)\n",
    "    break"
   ]
  },
  {
   "cell_type": "code",
   "execution_count": 77,
   "id": "910bfd03",
   "metadata": {},
   "outputs": [
    {
     "data": {
      "text/plain": [
       "(1, 400)"
      ]
     },
     "execution_count": 77,
     "metadata": {},
     "output_type": "execute_result"
    }
   ],
   "source": [
    "data1 = data1.reshape(1, row*2)\n",
    "data1.shape"
   ]
  },
  {
   "cell_type": "code",
   "execution_count": 78,
   "id": "76edb61f",
   "metadata": {
    "scrolled": true
   },
   "outputs": [
    {
     "data": {
      "text/plain": [
       "25.228549684783502"
      ]
     },
     "execution_count": 78,
     "metadata": {},
     "output_type": "execute_result"
    }
   ],
   "source": [
    "linear = linear.predict(data1)\n",
    "r = linear[0, 0]\n",
    "r"
   ]
  },
  {
   "cell_type": "markdown",
   "id": "a0383992",
   "metadata": {},
   "source": [
    "### Save model ExtraTressRegressor\n"
   ]
  },
  {
   "cell_type": "code",
   "execution_count": 77,
   "id": "4c70193d",
   "metadata": {},
   "outputs": [
    {
     "data": {
      "text/plain": [
       "['ExtraRegressor preds R.joblib']"
      ]
     },
     "execution_count": 77,
     "metadata": {},
     "output_type": "execute_result"
    }
   ],
   "source": [
    "import joblib\n",
    "\n",
    "joblib.dump(et_model, 'ExtraRegressor preds R.joblib')"
   ]
  },
  {
   "cell_type": "code",
   "execution_count": null,
   "id": "ff533ed8",
   "metadata": {},
   "outputs": [],
   "source": []
  },
  {
   "cell_type": "code",
   "execution_count": null,
   "id": "7e973924",
   "metadata": {},
   "outputs": [],
   "source": []
  }
 ],
 "metadata": {
  "kernelspec": {
   "display_name": "Python 3 (ipykernel)",
   "language": "python",
   "name": "python3"
  },
  "language_info": {
   "codemirror_mode": {
    "name": "ipython",
    "version": 3
   },
   "file_extension": ".py",
   "mimetype": "text/x-python",
   "name": "python",
   "nbconvert_exporter": "python",
   "pygments_lexer": "ipython3",
   "version": "3.9.12"
  }
 },
 "nbformat": 4,
 "nbformat_minor": 5
}
